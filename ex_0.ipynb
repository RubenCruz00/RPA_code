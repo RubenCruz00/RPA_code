{
 "cells": [
  {
   "cell_type": "code",
   "execution_count": 7,
   "metadata": {},
   "outputs": [],
   "source": [
    "import pyautogui\n",
    "import time\n",
    "# Esperar unos segundos antes de comenzar para que tengas tiempo de cambiar\n",
    "#a la ventana de la aplicación de procesamiento de texto\n",
    "time.sleep(5)\n",
    "# Escribir un mensaje utilizando la función typewrite()\n",
    "pyautogui.typewrite('¡Hola, mundo!\\n')\n",
    "# Presionar la tecla Enter para cambiar de línea\n",
    "pyautogui.press('enter')\n",
    "# Escribir otro mensaje\n",
    "pyautogui.typewrite('Este es un ejemplo de PyAutoGUI.')\n",
    "# Cerrar la aplicación de procesamiento de texto\n",
    "# Nota: Este comando es específico para la aplicación y puede necesitar ser\n",
    "#ajustado según la aplicación que estés utilizando\n",
    "pyautogui.hotkey('command', 's')"
   ]
  },
  {
   "cell_type": "code",
   "execution_count": null,
   "metadata": {},
   "outputs": [
    {
     "ename": "",
     "evalue": "",
     "output_type": "error",
     "traceback": [
      "\u001b[1;31mThe Kernel crashed while executing code in the current cell or a previous cell. \n",
      "\u001b[1;31mPlease review the code in the cell(s) to identify a possible cause of the failure. \n",
      "\u001b[1;31mClick <a href='https://aka.ms/vscodeJupyterKernelCrash'>here</a> for more info. \n",
      "\u001b[1;31mView Jupyter <a href='command:jupyter.viewOutput'>log</a> for further details."
     ]
    }
   ],
   "source": [
    "import pyautogui\n",
    "import time\n",
    "# Esperar unos segundos antes de comenzar para que tengas tiempo de cambiar\n",
    "#a la ventana de la aplicación de procesamiento de texto\n",
    "time.sleep(5)\n",
    "# Escribir un mensaje utilizando la función typewrite()\n",
    "pyautogui.typewrite('¡Hola, mundo!\\n'\n",
    ", interval=0.5)\n",
    "# Presionar la tecla Enter para cambiar de línea\n",
    "pyautogui.press('enter')\n",
    "# Escribir otro mensaje\n",
    "pyautogui.typewrite('Este es un ejemplo de PyAutoGUI.', interval=0.5)\n",
    "# Cerrar la aplicación de procesamiento de texto\n",
    "# Nota: Este comando es específico para la aplicación y puede necesitar ser\n",
    "#ajustado según la aplicación que estés utilizando\n",
    "pyautogui.hotkey('command', 's')"
   ]
  }
 ],
 "metadata": {
  "kernelspec": {
   "display_name": "Python 3",
   "language": "python",
   "name": "python3"
  },
  "language_info": {
   "codemirror_mode": {
    "name": "ipython",
    "version": 3
   },
   "file_extension": ".py",
   "mimetype": "text/x-python",
   "name": "python",
   "nbconvert_exporter": "python",
   "pygments_lexer": "ipython3",
   "version": "3.9.12"
  }
 },
 "nbformat": 4,
 "nbformat_minor": 2
}
