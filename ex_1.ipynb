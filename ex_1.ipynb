{
 "cells": [
  {
   "cell_type": "code",
   "execution_count": 12,
   "metadata": {},
   "outputs": [],
   "source": [
    "import pyautogui\n",
    "import time\n",
    "# Esperar unos segundos antes de comenzar para que tengas tiempo de\n",
    "#cambiar a la ventana de la aplicación de procesamiento de texto\n",
    "time.sleep(5)\n",
    "pyautogui.hotkey('command', 'space')\n",
    "# Escribir un mensaje utilizando la función typewrite()\n",
    "pyautogui.typewrite('textEd', interval=0.2)\n",
    "time.sleep(1)\n",
    "# Presionar la tecla Enter para cambiar de línea\n",
    "pyautogui.press('enter')\n",
    "time.sleep(5)\n",
    "# Escribir otro mensaje\n",
    "pyautogui.typewrite('Este es un ejemplo de PyAutoGUI.',interval=0.2)\n",
    "# Cerrar la aplicación de procesamiento de texto\n",
    "# Nota: Este comando es específico para la aplicación y puede\n",
    "#necesitar ser ajustado según la aplicación que estés utilizando\n",
    "pyautogui.hotkey('command', 's')\n",
    "time.sleep(1)\n",
    "pyautogui.typewrite('ejemplo', interval=0.2)\n",
    "pyautogui.press('enter')\n",
    "time.sleep(1)\n",
    "pyautogui.hotkey('command', 'q')"
   ]
  },
  {
   "cell_type": "code",
   "execution_count": null,
   "metadata": {},
   "outputs": [],
   "source": []
  }
 ],
 "metadata": {
  "kernelspec": {
   "display_name": "Python 3",
   "language": "python",
   "name": "python3"
  },
  "language_info": {
   "codemirror_mode": {
    "name": "ipython",
    "version": 3
   },
   "file_extension": ".py",
   "mimetype": "text/x-python",
   "name": "python",
   "nbconvert_exporter": "python",
   "pygments_lexer": "ipython3",
   "version": "3.9.12"
  }
 },
 "nbformat": 4,
 "nbformat_minor": 2
}
