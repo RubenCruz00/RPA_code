{
 "cells": [
  {
   "cell_type": "markdown",
   "metadata": {},
   "source": [
    "# Ejercicio 1"
   ]
  },
  {
   "cell_type": "code",
   "execution_count": 17,
   "metadata": {},
   "outputs": [
    {
     "name": "stdout",
     "output_type": "stream",
     "text": [
      "Point(x=330, y=187)\n"
     ]
    }
   ],
   "source": [
    "import pyautogui\n",
    "import time\n",
    "\n",
    "time.sleep(2)\n",
    "print(pyautogui.position())\n",
    "\n",
    "pyautogui.moveTo(1372, 704)\n",
    "pyautogui.mouseDown()\n",
    "pyautogui.dragTo(1000, 704, duration=1, button='left')\n",
    "pyautogui.mouseUp()\n",
    "\n",
    "pyautogui.moveTo(1372, 620)\n",
    "pyautogui.mouseDown()\n",
    "pyautogui.dragTo(1000, 620, duration=1, button='left')\n",
    "pyautogui.mouseUp()\n",
    "\n",
    "pyautogui.moveTo(438, 899)\n",
    "time.sleep(2)\n",
    "pyautogui.doubleClick()\n"
   ]
  },
  {
   "cell_type": "markdown",
   "metadata": {},
   "source": [
    "# Ejercicio 2"
   ]
  },
  {
   "cell_type": "code",
   "execution_count": 31,
   "metadata": {},
   "outputs": [],
   "source": [
    "pyautogui.moveTo(438, 899)\n",
    "time.sleep(2)\n",
    "pyautogui.doubleClick()\n",
    "\n",
    "pyautogui.moveTo(614, 48)\n",
    "time.sleep(1)\n",
    "pyautogui.click()\n",
    "time.sleep(2)\n",
    "pyautogui.typewrite('chatgpt.com')\n",
    "pyautogui.press('enter')"
   ]
  },
  {
   "cell_type": "markdown",
   "metadata": {},
   "source": [
    "pyautogui.moveTo(438, 899)\n",
    "time.sleep(2)\n",
    "pyautogui.doubleClick()\n",
    "\n",
    "pyautogui.moveTo(1372, 620)\n",
    "pyautogui.mouseDown()\n",
    "pyautogui.typewrite('Este es un ejemplo de PyAutoGUI.',interval=0.2)"
   ]
  }
 ],
 "metadata": {
  "kernelspec": {
   "display_name": "Python 3",
   "language": "python",
   "name": "python3"
  },
  "language_info": {
   "codemirror_mode": {
    "name": "ipython",
    "version": 3
   },
   "file_extension": ".py",
   "mimetype": "text/x-python",
   "name": "python",
   "nbconvert_exporter": "python",
   "pygments_lexer": "ipython3",
   "version": "3.9.12"
  }
 },
 "nbformat": 4,
 "nbformat_minor": 2
}
