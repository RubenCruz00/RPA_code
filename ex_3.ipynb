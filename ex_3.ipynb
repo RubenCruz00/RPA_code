{
 "cells": [
  {
   "cell_type": "code",
   "execution_count": 10,
   "metadata": {},
   "outputs": [
    {
     "name": "stdout",
     "output_type": "stream",
     "text": [
      "🧪 Máxima coincidencia: 0.9997\n",
      "📍 Coordenadas encontradas (imagen): (1378, 806)\n",
      "🖥️ Resolución de pantalla: 1440x900\n",
      "🎯 Coordenadas a mover (escaladas): (719, 432)\n",
      "✅ Imagen encontrada y doble clic realizado.\n",
      "🖼️ Se ha guardado 'resultado_debug.png' con el área marcada.\n"
     ]
    }
   ],
   "source": [
    "import pyautogui\n",
    "import cv2\n",
    "import time\n",
    "import os\n",
    "\n",
    "# Esperar 5 segundos para prepararte\n",
    "time.sleep(5)\n",
    "\n",
    "# Captura de pantalla\n",
    "captura = pyautogui.screenshot()\n",
    "captura_path = \"captura_temporal.png\"\n",
    "captura.save(captura_path)\n",
    "\n",
    "# Ruta de la imagen plantilla\n",
    "plantilla_path = \"Mendeley_icon.png\"\n",
    "imagen_a_buscar = cv2.imread(plantilla_path)\n",
    "\n",
    "# Verificar que la imagen fue cargada correctamente\n",
    "if imagen_a_buscar is None:\n",
    "    print(\"❌ No se pudo cargar la imagen 'Mendeley_icon.png'.\")\n",
    "    exit()\n",
    "\n",
    "# Leer la captura de pantalla\n",
    "captura_img = cv2.imread(captura_path)\n",
    "\n",
    "# Convertir ambas a escala de grises\n",
    "captura_gray = cv2.cvtColor(captura_img, cv2.COLOR_BGR2GRAY)\n",
    "plantilla_gray = cv2.cvtColor(imagen_a_buscar, cv2.COLOR_BGR2GRAY)\n",
    "\n",
    "# Búsqueda por template matching\n",
    "resultado = cv2.matchTemplate(captura_gray, plantilla_gray, cv2.TM_CCOEFF_NORMED)\n",
    "min_val, max_val, min_loc, max_loc = cv2.minMaxLoc(resultado)\n",
    "\n",
    "# Mostrar información en consola\n",
    "print(f\"🧪 Máxima coincidencia: {max_val:.4f}\")\n",
    "print(f\"📍 Coordenadas encontradas (imagen): {max_loc}\")\n",
    "\n",
    "# Umbral de coincidencia\n",
    "umbral = 0.8\n",
    "\n",
    "if max_val >= umbral:\n",
    "    alto, ancho = plantilla_gray.shape\n",
    "\n",
    "    # Escalar coordenadas si la imagen es retina (usualmente el doble)\n",
    "    screen_w, screen_h = pyautogui.size()\n",
    "    factor_escalado = screen_w / captura_gray.shape[1]\n",
    "\n",
    "    centro_x = int((max_loc[0] + ancho // 2) * factor_escalado)\n",
    "    centro_y = int((max_loc[1] + alto // 2) * factor_escalado)\n",
    "\n",
    "    print(f\"🖥️ Resolución de pantalla: {screen_w}x{screen_h}\")\n",
    "    print(f\"🎯 Coordenadas a mover (escaladas): ({centro_x}, {centro_y})\")\n",
    "\n",
    "    # Validar que esté dentro de la pantalla\n",
    "    if 0 <= centro_x <= screen_w and 0 <= centro_y <= screen_h:\n",
    "        pyautogui.moveTo(centro_x, centro_y, duration=2, tween=pyautogui.easeOutQuad)\n",
    "        pyautogui.click(clicks=2, interval=0.2)\n",
    "        print(\"✅ Imagen encontrada y doble clic realizado.\")\n",
    "    else:\n",
    "        print(\"⚠️ Coordenadas fuera de la pantalla. Escalado incorrecto.\")\n",
    "\n",
    "    # Dibujar el rectángulo\n",
    "    top_left = max_loc\n",
    "    bottom_right = (top_left[0] + ancho, top_left[1] + alto)\n",
    "    cv2.rectangle(captura_img, top_left, bottom_right, (0, 255, 0), 2)\n",
    "    cv2.imwrite(\"resultado_debug.png\", captura_img)\n",
    "    print(\"🖼️ Se ha guardado 'resultado_debug.png' con el área marcada.\")\n",
    "\n",
    "else:\n",
    "    print(\"❌ Imagen no encontrada con suficiente coincidencia.\")\n",
    "\n",
    "# Borrar la captura temporal\n",
    "os.remove(captura_path)\n"
   ]
  }
 ],
 "metadata": {
  "kernelspec": {
   "display_name": "Python 3",
   "language": "python",
   "name": "python3"
  },
  "language_info": {
   "codemirror_mode": {
    "name": "ipython",
    "version": 3
   },
   "file_extension": ".py",
   "mimetype": "text/x-python",
   "name": "python",
   "nbconvert_exporter": "python",
   "pygments_lexer": "ipython3",
   "version": "3.9.12"
  }
 },
 "nbformat": 4,
 "nbformat_minor": 2
}
