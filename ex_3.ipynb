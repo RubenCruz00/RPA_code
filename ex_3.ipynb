{
 "cells": [
  {
   "cell_type": "code",
   "execution_count": null,
   "metadata": {},
   "outputs": [],
   "source": [
    "import pyautogui\n",
    "import cv2\n",
    "import time\n",
    "time.sleep(5)\n",
    "# Capturar una captura de pantalla\n",
    "captura = pyautogui.screenshot()\n",
    "# Guardar la captura de pantalla como un archivo de imagen temporal\n",
    "captura_path = \"captura_temporal.png\"\n",
    "captura.save(captura_path)\n",
    "# Cargar la imagen a buscar usando OpenCV\n",
    "imagen_a_buscar = cv2.imread(\"Mendeley_icon.png\")\n",
    "# Buscar la imagen en la captura de pantalla\n",
    "resultado = cv2.matchTemplate(cv2.cvtColor(cv2.imread(captura_path),\n",
    "cv2.COLOR_BGR2GRAY),\n",
    "cv2.cvtColor(imagen_a_buscar,\n",
    "cv2.COLOR_BGR2GRAY),\n",
    "cv2.TM_CCOEFF_NORMED)\n",
    "# Obtener las coordenadas de la imagen si se encuentra\n",
    "_, _, _, max_loc = cv2.minMaxLoc(resultado)\n",
    "x, y = max_loc\n",
    "\n",
    "# Hacer clic en el centro de la imagen si se encuentra\n",
    "if resultado.max() > 0.9:\n",
    "    centro_x = x + imagen_a_buscar.shape[1] // 2\n",
    "    centro_y = y + imagen_a_buscar.shape[0] // 2\n",
    "    pyautogui.moveTo(centro_x, centro_y, 2, pyautogui.easeOutQuad)\n",
    "    pyautogui.click(centro_x, centro_y,clicks=2,interval=0.2)\n",
    "    time.sleep(2)\n",
    "    pyautogui.alert(\"Imagen encontrada y clic realizando en el centro.\")\n",
    "else:\n",
    "    time.sleep(2)\n",
    "    pyautogui.alert(\"Imagen no encontrada.\")\n",
    "    # Eliminar el archivo de imagen temporal\n",
    "import os\n",
    "os.remove(captura_path)"
   ]
  }
 ],
 "metadata": {
  "kernelspec": {
   "display_name": "Python 3",
   "language": "python",
   "name": "python3"
  },
  "language_info": {
   "codemirror_mode": {
    "name": "ipython",
    "version": 3
   },
   "file_extension": ".py",
   "mimetype": "text/x-python",
   "name": "python",
   "nbconvert_exporter": "python",
   "pygments_lexer": "ipython3",
   "version": "3.9.12"
  }
 },
 "nbformat": 4,
 "nbformat_minor": 2
}
