{
 "cells": [
  {
   "cell_type": "code",
   "execution_count": 15,
   "id": "6e4c32ba",
   "metadata": {},
   "outputs": [
    {
     "name": "stdout",
     "output_type": "stream",
     "text": [
      "¿Qué deseas hacer?\n",
      "1. Ver titulares de noticias sobre vivienda\n",
      "2. Abrir Word directamente\n",
      "Obteniendo titulares...\n",
      "✅ Listo.\n"
     ]
    }
   ],
   "source": [
    "import requests\n",
    "from bs4 import BeautifulSoup\n",
    "import pyautogui\n",
    "import time\n",
    "import os\n",
    "\n",
    "def obtener_titulares_vivienda():\n",
    "    url = \"https://elpais.com/noticias/vivienda/\"\n",
    "    response = requests.get(url)\n",
    "    soup = BeautifulSoup(response.text, 'html.parser')\n",
    "    noticias = soup.find_all('h2')\n",
    "    titulares = []\n",
    "    for noticia in noticias:\n",
    "        texto = noticia.get_text(strip=True)\n",
    "        if 'vivienda' in texto.lower():\n",
    "            titulares.append(texto)\n",
    "        if len(titulares) >= 5:\n",
    "            break\n",
    "    return titulares\n",
    "\n",
    "def abrir_word_y_pegar_titulares(titulares):\n",
    "    pyautogui.hotkey('command', 'space')\n",
    "    time.sleep(1)\n",
    "    pyautogui.write('Word')\n",
    "    time.sleep(10)\n",
    "    pyautogui.press('enter')\n",
    "    time.sleep(10)\n",
    "    pyautogui.press('enter')\n",
    "\n",
    "    for t in titulares:\n",
    "        pyautogui.write(t)\n",
    "        pyautogui.press('enter')\n",
    "        time.sleep(0.2)\n",
    "\n",
    "    time.sleep(2)\n",
    "    pyautogui.hotkey('command', 'shift', 's')\n",
    "    time.sleep(2)\n",
    "    pyautogui.write('Noticias_Vivienda')\n",
    "    time.sleep(3)\n",
    "    pyautogui.press('enter')\n",
    "    time.sleep(3)\n",
    "    pyautogui.press('enter')\n",
    "\n",
    "def abrir_word_solo():\n",
    "    pyautogui.hotkey('command', 'space')\n",
    "    time.sleep(1)\n",
    "    pyautogui.write('Word')\n",
    "    time.sleep(10)\n",
    "    pyautogui.press('enter')\n",
    "    time.sleep(5)\n",
    "    pyautogui.press('enter')\n",
    "\n",
    "# Opción desde consola (adaptado a Jupyter)\n",
    "print(\"¿Qué deseas hacer?\")\n",
    "print(\"1. Ver titulares de noticias sobre vivienda\")\n",
    "print(\"2. Abrir Word directamente\")\n",
    "opcion = input(\"Introduce 1 o 2: \").strip()\n",
    "\n",
    "if opcion == '1':\n",
    "    print(\"Obteniendo titulares...\")\n",
    "    titulares = obtener_titulares_vivienda()\n",
    "    abrir_word_y_pegar_titulares(titulares)\n",
    "elif opcion == '2':\n",
    "    abrir_word_solo()\n",
    "else:\n",
    "    print(\"Opción no válida.\")\n",
    "\n",
    "print(\"✅ Listo.\")\n"
   ]
  }
 ],
 "metadata": {
  "kernelspec": {
   "display_name": "Python 3",
   "language": "python",
   "name": "python3"
  },
  "language_info": {
   "codemirror_mode": {
    "name": "ipython",
    "version": 3
   },
   "file_extension": ".py",
   "mimetype": "text/x-python",
   "name": "python",
   "nbconvert_exporter": "python",
   "pygments_lexer": "ipython3",
   "version": "3.9.12"
  }
 },
 "nbformat": 4,
 "nbformat_minor": 5
}
